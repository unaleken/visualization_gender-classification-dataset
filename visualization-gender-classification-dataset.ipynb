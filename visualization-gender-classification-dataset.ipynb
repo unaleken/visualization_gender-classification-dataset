{
 "cells": [
  {
   "cell_type": "code",
   "execution_count": 1,
   "metadata": {
    "_cell_guid": "b1076dfc-b9ad-4769-8c92-a6c4dae69d19",
    "_uuid": "8f2839f25d086af736a60e9eeb907d3b93b6e0e5",
    "execution": {
     "iopub.execute_input": "2020-12-05T16:46:23.794467Z",
     "iopub.status.busy": "2020-12-05T16:46:23.793459Z",
     "iopub.status.idle": "2020-12-05T16:46:23.800867Z",
     "shell.execute_reply": "2020-12-05T16:46:23.800068Z"
    },
    "papermill": {
     "duration": 0.039862,
     "end_time": "2020-12-05T16:46:23.801000",
     "exception": false,
     "start_time": "2020-12-05T16:46:23.761138",
     "status": "completed"
    },
    "tags": []
   },
   "outputs": [
    {
     "name": "stdout",
     "output_type": "stream",
     "text": [
      "/kaggle/input/gender-classification-dataset/gender_classification_v7.csv\n"
     ]
    }
   ],
   "source": [
    "# This Python 3 environment comes with many helpful analytics libraries installed\n",
    "# It is defined by the kaggle/python Docker image: https://github.com/kaggle/docker-python\n",
    "# For example, here's several helpful packages to load\n",
    "\n",
    "import numpy as np # linear algebra\n",
    "import pandas as pd # data processing, CSV file I/O (e.g. pd.read_csv)\n",
    "\n",
    "# Input data files are available in the read-only \"../input/\" directory\n",
    "# For example, running this (by clicking run or pressing Shift+Enter) will list all files under the input directory\n",
    "\n",
    "import os\n",
    "for dirname, _, filenames in os.walk('/kaggle/input'):\n",
    "    for filename in filenames:\n",
    "        print(os.path.join(dirname, filename))\n",
    "\n",
    "# You can write up to 20GB to the current directory (/kaggle/working/) that gets preserved as output when you create a version using \"Save & Run All\" \n",
    "# You can also write temporary files to /kaggle/temp/, but they won't be saved outside of the current session"
   ]
  },
  {
   "cell_type": "code",
   "execution_count": 2,
   "metadata": {
    "execution": {
     "iopub.execute_input": "2020-12-05T16:46:23.857242Z",
     "iopub.status.busy": "2020-12-05T16:46:23.856330Z",
     "iopub.status.idle": "2020-12-05T16:46:25.035521Z",
     "shell.execute_reply": "2020-12-05T16:46:25.034615Z"
    },
    "papermill": {
     "duration": 1.209309,
     "end_time": "2020-12-05T16:46:25.035661",
     "exception": false,
     "start_time": "2020-12-05T16:46:23.826352",
     "status": "completed"
    },
    "tags": []
   },
   "outputs": [],
   "source": [
    "import matplotlib.pyplot as plt\n",
    "import seaborn as sns"
   ]
  },
  {
   "cell_type": "code",
   "execution_count": 3,
   "metadata": {
    "_cell_guid": "79c7e3d0-c299-4dcb-8224-4455121ee9b0",
    "_uuid": "d629ff2d2480ee46fbb7e2d37f6b5fab8052498a",
    "execution": {
     "iopub.execute_input": "2020-12-05T16:46:25.092037Z",
     "iopub.status.busy": "2020-12-05T16:46:25.091233Z",
     "iopub.status.idle": "2020-12-05T16:46:25.131289Z",
     "shell.execute_reply": "2020-12-05T16:46:25.130576Z"
    },
    "papermill": {
     "duration": 0.070457,
     "end_time": "2020-12-05T16:46:25.131419",
     "exception": false,
     "start_time": "2020-12-05T16:46:25.060962",
     "status": "completed"
    },
    "tags": []
   },
   "outputs": [
    {
     "data": {
      "text/html": [
       "<div>\n",
       "<style scoped>\n",
       "    .dataframe tbody tr th:only-of-type {\n",
       "        vertical-align: middle;\n",
       "    }\n",
       "\n",
       "    .dataframe tbody tr th {\n",
       "        vertical-align: top;\n",
       "    }\n",
       "\n",
       "    .dataframe thead th {\n",
       "        text-align: right;\n",
       "    }\n",
       "</style>\n",
       "<table border=\"1\" class=\"dataframe\">\n",
       "  <thead>\n",
       "    <tr style=\"text-align: right;\">\n",
       "      <th></th>\n",
       "      <th>long_hair</th>\n",
       "      <th>forehead_width_cm</th>\n",
       "      <th>forehead_height_cm</th>\n",
       "      <th>nose_wide</th>\n",
       "      <th>nose_long</th>\n",
       "      <th>lips_thin</th>\n",
       "      <th>distance_nose_to_lip_long</th>\n",
       "      <th>gender</th>\n",
       "    </tr>\n",
       "  </thead>\n",
       "  <tbody>\n",
       "    <tr>\n",
       "      <th>0</th>\n",
       "      <td>1</td>\n",
       "      <td>11.8</td>\n",
       "      <td>6.1</td>\n",
       "      <td>1</td>\n",
       "      <td>0</td>\n",
       "      <td>1</td>\n",
       "      <td>1</td>\n",
       "      <td>Male</td>\n",
       "    </tr>\n",
       "    <tr>\n",
       "      <th>1</th>\n",
       "      <td>0</td>\n",
       "      <td>14.0</td>\n",
       "      <td>5.4</td>\n",
       "      <td>0</td>\n",
       "      <td>0</td>\n",
       "      <td>1</td>\n",
       "      <td>0</td>\n",
       "      <td>Female</td>\n",
       "    </tr>\n",
       "    <tr>\n",
       "      <th>2</th>\n",
       "      <td>0</td>\n",
       "      <td>11.8</td>\n",
       "      <td>6.3</td>\n",
       "      <td>1</td>\n",
       "      <td>1</td>\n",
       "      <td>1</td>\n",
       "      <td>1</td>\n",
       "      <td>Male</td>\n",
       "    </tr>\n",
       "    <tr>\n",
       "      <th>3</th>\n",
       "      <td>0</td>\n",
       "      <td>14.4</td>\n",
       "      <td>6.1</td>\n",
       "      <td>0</td>\n",
       "      <td>1</td>\n",
       "      <td>1</td>\n",
       "      <td>1</td>\n",
       "      <td>Male</td>\n",
       "    </tr>\n",
       "    <tr>\n",
       "      <th>4</th>\n",
       "      <td>1</td>\n",
       "      <td>13.5</td>\n",
       "      <td>5.9</td>\n",
       "      <td>0</td>\n",
       "      <td>0</td>\n",
       "      <td>0</td>\n",
       "      <td>0</td>\n",
       "      <td>Female</td>\n",
       "    </tr>\n",
       "  </tbody>\n",
       "</table>\n",
       "</div>"
      ],
      "text/plain": [
       "   long_hair  forehead_width_cm  forehead_height_cm  nose_wide  nose_long  \\\n",
       "0          1               11.8                 6.1          1          0   \n",
       "1          0               14.0                 5.4          0          0   \n",
       "2          0               11.8                 6.3          1          1   \n",
       "3          0               14.4                 6.1          0          1   \n",
       "4          1               13.5                 5.9          0          0   \n",
       "\n",
       "   lips_thin  distance_nose_to_lip_long  gender  \n",
       "0          1                          1    Male  \n",
       "1          1                          0  Female  \n",
       "2          1                          1    Male  \n",
       "3          1                          1    Male  \n",
       "4          0                          0  Female  "
      ]
     },
     "execution_count": 3,
     "metadata": {},
     "output_type": "execute_result"
    }
   ],
   "source": [
    "gnd = pd.read_csv(\"/kaggle/input/gender-classification-dataset/gender_classification_v7.csv\")\n",
    "df = gnd.copy()\n",
    "df.head()"
   ]
  },
  {
   "cell_type": "code",
   "execution_count": 4,
   "metadata": {
    "execution": {
     "iopub.execute_input": "2020-12-05T16:46:25.198646Z",
     "iopub.status.busy": "2020-12-05T16:46:25.190205Z",
     "iopub.status.idle": "2020-12-05T16:46:25.203094Z",
     "shell.execute_reply": "2020-12-05T16:46:25.202472Z"
    },
    "papermill": {
     "duration": 0.046612,
     "end_time": "2020-12-05T16:46:25.203236",
     "exception": false,
     "start_time": "2020-12-05T16:46:25.156624",
     "status": "completed"
    },
    "tags": []
   },
   "outputs": [
    {
     "name": "stdout",
     "output_type": "stream",
     "text": [
      "<class 'pandas.core.frame.DataFrame'>\n",
      "RangeIndex: 5001 entries, 0 to 5000\n",
      "Data columns (total 8 columns):\n",
      " #   Column                     Non-Null Count  Dtype  \n",
      "---  ------                     --------------  -----  \n",
      " 0   long_hair                  5001 non-null   int64  \n",
      " 1   forehead_width_cm          5001 non-null   float64\n",
      " 2   forehead_height_cm         5001 non-null   float64\n",
      " 3   nose_wide                  5001 non-null   int64  \n",
      " 4   nose_long                  5001 non-null   int64  \n",
      " 5   lips_thin                  5001 non-null   int64  \n",
      " 6   distance_nose_to_lip_long  5001 non-null   int64  \n",
      " 7   gender                     5001 non-null   object \n",
      "dtypes: float64(2), int64(5), object(1)\n",
      "memory usage: 312.7+ KB\n"
     ]
    }
   ],
   "source": [
    "df.info()"
   ]
  },
  {
   "cell_type": "markdown",
   "metadata": {
    "papermill": {
     "duration": 0.026383,
     "end_time": "2020-12-05T16:46:25.256834",
     "exception": false,
     "start_time": "2020-12-05T16:46:25.230451",
     "status": "completed"
    },
    "tags": []
   },
   "source": [
    "This data set contains 7 numeric variables and 1 categorical variable.Dependent variable is gender, others are independent variable."
   ]
  },
  {
   "cell_type": "code",
   "execution_count": 5,
   "metadata": {
    "execution": {
     "iopub.execute_input": "2020-12-05T16:46:25.318266Z",
     "iopub.status.busy": "2020-12-05T16:46:25.317502Z",
     "iopub.status.idle": "2020-12-05T16:46:25.352721Z",
     "shell.execute_reply": "2020-12-05T16:46:25.351929Z"
    },
    "papermill": {
     "duration": 0.070075,
     "end_time": "2020-12-05T16:46:25.352849",
     "exception": false,
     "start_time": "2020-12-05T16:46:25.282774",
     "status": "completed"
    },
    "tags": []
   },
   "outputs": [
    {
     "data": {
      "text/html": [
       "<div>\n",
       "<style scoped>\n",
       "    .dataframe tbody tr th:only-of-type {\n",
       "        vertical-align: middle;\n",
       "    }\n",
       "\n",
       "    .dataframe tbody tr th {\n",
       "        vertical-align: top;\n",
       "    }\n",
       "\n",
       "    .dataframe thead th {\n",
       "        text-align: right;\n",
       "    }\n",
       "</style>\n",
       "<table border=\"1\" class=\"dataframe\">\n",
       "  <thead>\n",
       "    <tr style=\"text-align: right;\">\n",
       "      <th></th>\n",
       "      <th>count</th>\n",
       "      <th>mean</th>\n",
       "      <th>std</th>\n",
       "      <th>min</th>\n",
       "      <th>25%</th>\n",
       "      <th>50%</th>\n",
       "      <th>75%</th>\n",
       "      <th>max</th>\n",
       "    </tr>\n",
       "  </thead>\n",
       "  <tbody>\n",
       "    <tr>\n",
       "      <th>long_hair</th>\n",
       "      <td>5001.0</td>\n",
       "      <td>0.869626</td>\n",
       "      <td>0.336748</td>\n",
       "      <td>0.0</td>\n",
       "      <td>1.0</td>\n",
       "      <td>1.0</td>\n",
       "      <td>1.0</td>\n",
       "      <td>1.0</td>\n",
       "    </tr>\n",
       "    <tr>\n",
       "      <th>forehead_width_cm</th>\n",
       "      <td>5001.0</td>\n",
       "      <td>13.181484</td>\n",
       "      <td>1.107128</td>\n",
       "      <td>11.4</td>\n",
       "      <td>12.2</td>\n",
       "      <td>13.1</td>\n",
       "      <td>14.0</td>\n",
       "      <td>15.5</td>\n",
       "    </tr>\n",
       "    <tr>\n",
       "      <th>forehead_height_cm</th>\n",
       "      <td>5001.0</td>\n",
       "      <td>5.946311</td>\n",
       "      <td>0.541268</td>\n",
       "      <td>5.1</td>\n",
       "      <td>5.5</td>\n",
       "      <td>5.9</td>\n",
       "      <td>6.4</td>\n",
       "      <td>7.1</td>\n",
       "    </tr>\n",
       "    <tr>\n",
       "      <th>nose_wide</th>\n",
       "      <td>5001.0</td>\n",
       "      <td>0.493901</td>\n",
       "      <td>0.500013</td>\n",
       "      <td>0.0</td>\n",
       "      <td>0.0</td>\n",
       "      <td>0.0</td>\n",
       "      <td>1.0</td>\n",
       "      <td>1.0</td>\n",
       "    </tr>\n",
       "    <tr>\n",
       "      <th>nose_long</th>\n",
       "      <td>5001.0</td>\n",
       "      <td>0.507898</td>\n",
       "      <td>0.499988</td>\n",
       "      <td>0.0</td>\n",
       "      <td>0.0</td>\n",
       "      <td>1.0</td>\n",
       "      <td>1.0</td>\n",
       "      <td>1.0</td>\n",
       "    </tr>\n",
       "    <tr>\n",
       "      <th>lips_thin</th>\n",
       "      <td>5001.0</td>\n",
       "      <td>0.493101</td>\n",
       "      <td>0.500002</td>\n",
       "      <td>0.0</td>\n",
       "      <td>0.0</td>\n",
       "      <td>0.0</td>\n",
       "      <td>1.0</td>\n",
       "      <td>1.0</td>\n",
       "    </tr>\n",
       "    <tr>\n",
       "      <th>distance_nose_to_lip_long</th>\n",
       "      <td>5001.0</td>\n",
       "      <td>0.498900</td>\n",
       "      <td>0.500049</td>\n",
       "      <td>0.0</td>\n",
       "      <td>0.0</td>\n",
       "      <td>0.0</td>\n",
       "      <td>1.0</td>\n",
       "      <td>1.0</td>\n",
       "    </tr>\n",
       "  </tbody>\n",
       "</table>\n",
       "</div>"
      ],
      "text/plain": [
       "                            count       mean       std   min   25%   50%  \\\n",
       "long_hair                  5001.0   0.869626  0.336748   0.0   1.0   1.0   \n",
       "forehead_width_cm          5001.0  13.181484  1.107128  11.4  12.2  13.1   \n",
       "forehead_height_cm         5001.0   5.946311  0.541268   5.1   5.5   5.9   \n",
       "nose_wide                  5001.0   0.493901  0.500013   0.0   0.0   0.0   \n",
       "nose_long                  5001.0   0.507898  0.499988   0.0   0.0   1.0   \n",
       "lips_thin                  5001.0   0.493101  0.500002   0.0   0.0   0.0   \n",
       "distance_nose_to_lip_long  5001.0   0.498900  0.500049   0.0   0.0   0.0   \n",
       "\n",
       "                            75%   max  \n",
       "long_hair                   1.0   1.0  \n",
       "forehead_width_cm          14.0  15.5  \n",
       "forehead_height_cm          6.4   7.1  \n",
       "nose_wide                   1.0   1.0  \n",
       "nose_long                   1.0   1.0  \n",
       "lips_thin                   1.0   1.0  \n",
       "distance_nose_to_lip_long   1.0   1.0  "
      ]
     },
     "execution_count": 5,
     "metadata": {},
     "output_type": "execute_result"
    }
   ],
   "source": [
    "df.describe().T"
   ]
  },
  {
   "cell_type": "markdown",
   "metadata": {
    "papermill": {
     "duration": 0.027231,
     "end_time": "2020-12-05T16:46:25.406587",
     "exception": false,
     "start_time": "2020-12-05T16:46:25.379356",
     "status": "completed"
    },
    "tags": []
   },
   "source": [
    "Let's examine the variables now. I'll loop for it"
   ]
  },
  {
   "cell_type": "code",
   "execution_count": 6,
   "metadata": {
    "execution": {
     "iopub.execute_input": "2020-12-05T16:46:25.466769Z",
     "iopub.status.busy": "2020-12-05T16:46:25.465872Z",
     "iopub.status.idle": "2020-12-05T16:46:25.468838Z",
     "shell.execute_reply": "2020-12-05T16:46:25.469399Z"
    },
    "papermill": {
     "duration": 0.03677,
     "end_time": "2020-12-05T16:46:25.469575",
     "exception": false,
     "start_time": "2020-12-05T16:46:25.432805",
     "status": "completed"
    },
    "tags": []
   },
   "outputs": [],
   "source": [
    "def numeric(variable):\n",
    "    \n",
    "    plt.hist(df[variable], bins = 50)\n",
    "    plt.xlabel(variable)\n",
    "    plt.ylabel(\"Frequency\")\n",
    "    plt.title(\"{} distribution of the variable\".format(variable))\n",
    "    plt.show()"
   ]
  },
  {
   "cell_type": "code",
   "execution_count": 7,
   "metadata": {
    "execution": {
     "iopub.execute_input": "2020-12-05T16:46:25.529128Z",
     "iopub.status.busy": "2020-12-05T16:46:25.528144Z",
     "iopub.status.idle": "2020-12-05T16:46:25.530938Z",
     "shell.execute_reply": "2020-12-05T16:46:25.531628Z"
    },
    "papermill": {
     "duration": 0.03566,
     "end_time": "2020-12-05T16:46:25.531813",
     "exception": false,
     "start_time": "2020-12-05T16:46:25.496153",
     "status": "completed"
    },
    "tags": []
   },
   "outputs": [],
   "source": [
    "list = [\"long_hair\",\"forehead_width_cm\",\"forehead_height_cm\",\"nose_wide\",\n",
    "        \"nose_long\",\"lips_thin\",\"distance_nose_to_lip_long\"]"
   ]
  },
  {
   "cell_type": "code",
   "execution_count": 8,
   "metadata": {
    "execution": {
     "iopub.execute_input": "2020-12-05T16:46:25.591915Z",
     "iopub.status.busy": "2020-12-05T16:46:25.590954Z",
     "iopub.status.idle": "2020-12-05T16:46:27.675772Z",
     "shell.execute_reply": "2020-12-05T16:46:27.674912Z"
    },
    "papermill": {
     "duration": 2.116529,
     "end_time": "2020-12-05T16:46:27.675906",
     "exception": false,
     "start_time": "2020-12-05T16:46:25.559377",
     "status": "completed"
    },
    "tags": []
   },
   "outputs": [
    {
     "data": {
      "image/png": "[encoded data removed]",
      "text/plain": [
       "<Figure size 432x288 with 1 Axes>"
      ]
     },
     "metadata": {
      "needs_background": "light"
     },
     "output_type": "display_data"
    },
    {
     "data": {
      "image/png": "[encoded data removed]",
      "text/plain": [
       "<Figure size 432x288 with 1 Axes>"
      ]
     },
     "metadata": {
      "needs_background": "light"
     },
     "output_type": "display_data"
    },
    {
     "data": {
      "image/png": "[encoded data removed]",
      "text/plain": [
       "<Figure size 432x288 with 1 Axes>"
      ]
     },
     "metadata": {
      "needs_background": "light"
     },
     "output_type": "display_data"
    },
    {
     "data": {
      "image/png": "[encoded data removed]",
      "text/plain": [
       "<Figure size 432x288 with 1 Axes>"
      ]
     },
     "metadata": {
      "needs_background": "light"
     },
     "output_type": "display_data"
    },
    {
     "data": {
      "image/png": "[encoded data removed]",
      "text/plain": [
       "<Figure size 432x288 with 1 Axes>"
      ]
     },
     "metadata": {
      "needs_background": "light"
     },
     "output_type": "display_data"
    },
    {
     "data": {
      "image/png": "[encoded data removed]",
      "text/plain": [
       "<Figure size 432x288 with 1 Axes>"
      ]
     },
     "metadata": {
      "needs_background": "light"
     },
     "output_type": "display_data"
    },
    {
     "data": {
      "image/png": "[encoded data removed]",
      "text/plain": [
       "<Figure size 432x288 with 1 Axes>"
      ]
     },
     "metadata": {
      "needs_background": "light"
     },
     "output_type": "display_data"
    }
   ],
   "source": [
    "for i in list:\n",
    "    numeric(i)"
   ]
  },
  {
   "cell_type": "markdown",
   "metadata": {
    "papermill": {
     "duration": 0.032495,
     "end_time": "2020-12-05T16:46:27.741542",
     "exception": false,
     "start_time": "2020-12-05T16:46:27.709047",
     "status": "completed"
    },
    "tags": []
   },
   "source": [
    "Effect of independent variables on dependent variable. But before doing this, we must convert our dependent variable to numeric type. I'm not doing one hot encoding here.I will be glad if you have your feedback on this matter."
   ]
  },
  {
   "cell_type": "code",
   "execution_count": 9,
   "metadata": {
    "execution": {
     "iopub.execute_input": "2020-12-05T16:46:27.814130Z",
     "iopub.status.busy": "2020-12-05T16:46:27.813341Z",
     "iopub.status.idle": "2020-12-05T16:46:27.888448Z",
     "shell.execute_reply": "2020-12-05T16:46:27.887731Z"
    },
    "papermill": {
     "duration": 0.114212,
     "end_time": "2020-12-05T16:46:27.888582",
     "exception": false,
     "start_time": "2020-12-05T16:46:27.774370",
     "status": "completed"
    },
    "tags": []
   },
   "outputs": [],
   "source": [
    "from sklearn import preprocessing\n",
    "label_encoder = preprocessing.LabelEncoder()\n",
    "df['gender'] = label_encoder.fit_transform(df['gender'])"
   ]
  },
  {
   "cell_type": "code",
   "execution_count": 10,
   "metadata": {
    "execution": {
     "iopub.execute_input": "2020-12-05T16:46:27.969714Z",
     "iopub.status.busy": "2020-12-05T16:46:27.967358Z",
     "iopub.status.idle": "2020-12-05T16:46:32.654433Z",
     "shell.execute_reply": "2020-12-05T16:46:32.653629Z"
    },
    "papermill": {
     "duration": 4.73253,
     "end_time": "2020-12-05T16:46:32.654565",
     "exception": false,
     "start_time": "2020-12-05T16:46:27.922035",
     "status": "completed"
    },
    "tags": []
   },
   "outputs": [
    {
     "data": {
      "text/plain": [
       "<seaborn.axisgrid.JointGrid at 0x7f54daca9250>"
      ]
     },
     "execution_count": 10,
     "metadata": {},
     "output_type": "execute_result"
    },
    {
     "data": {
      "image/png": "[encoded data removed]",
      "text/plain": [
       "<Figure size 432x432 with 3 Axes>"
      ]
     },
     "metadata": {
      "needs_background": "light"
     },
     "output_type": "display_data"
    }
   ],
   "source": [
    "sns.jointplot(\"forehead_width_cm\", \"gender\", data = df, kind = \"kde\")"
   ]
  },
  {
   "cell_type": "markdown",
   "metadata": {
    "papermill": {
     "duration": 0.034143,
     "end_time": "2020-12-05T16:46:32.723407",
     "exception": false,
     "start_time": "2020-12-05T16:46:32.689264",
     "status": "completed"
    },
    "tags": []
   },
   "source": [
    "Men's head width is more messy than women and women's fore head width concentrated at 12 cm"
   ]
  },
  {
   "cell_type": "code",
   "execution_count": 11,
   "metadata": {
    "execution": {
     "iopub.execute_input": "2020-12-05T16:46:32.805084Z",
     "iopub.status.busy": "2020-12-05T16:46:32.803731Z",
     "iopub.status.idle": "2020-12-05T16:46:34.019114Z",
     "shell.execute_reply": "2020-12-05T16:46:34.018314Z"
    },
    "papermill": {
     "duration": 1.261387,
     "end_time": "2020-12-05T16:46:34.019268",
     "exception": false,
     "start_time": "2020-12-05T16:46:32.757881",
     "status": "completed"
    },
    "tags": []
   },
   "outputs": [
    {
     "data": {
      "text/plain": [
       "<seaborn.axisgrid.JointGrid at 0x7f54d98f0f10>"
      ]
     },
     "execution_count": 11,
     "metadata": {},
     "output_type": "execute_result"
    },
    {
     "data": {
      "image/png": "[encoded data removed]",
      "text/plain": [
       "<Figure size 432x432 with 3 Axes>"
      ]
     },
     "metadata": {
      "needs_background": "light"
     },
     "output_type": "display_data"
    }
   ],
   "source": [
    "sns.jointplot(\"forehead_height_cm\", \"gender\", data = df, kind = \"reg\")"
   ]
  },
  {
   "cell_type": "markdown",
   "metadata": {
    "papermill": {
     "duration": 0.03894,
     "end_time": "2020-12-05T16:46:34.097374",
     "exception": false,
     "start_time": "2020-12-05T16:46:34.058434",
     "status": "completed"
    },
    "tags": []
   },
   "source": [
    "Head height is shorter in women."
   ]
  },
  {
   "cell_type": "code",
   "execution_count": 12,
   "metadata": {
    "execution": {
     "iopub.execute_input": "2020-12-05T16:46:34.177691Z",
     "iopub.status.busy": "2020-12-05T16:46:34.176793Z",
     "iopub.status.idle": "2020-12-05T16:46:36.077280Z",
     "shell.execute_reply": "2020-12-05T16:46:36.077920Z"
    },
    "papermill": {
     "duration": 1.94415,
     "end_time": "2020-12-05T16:46:36.078096",
     "exception": false,
     "start_time": "2020-12-05T16:46:34.133946",
     "status": "completed"
    },
    "tags": []
   },
   "outputs": [
    {
     "data": {
      "text/plain": [
       "<matplotlib.axes._subplots.AxesSubplot at 0x7f54d8f14610>"
      ]
     },
     "execution_count": 12,
     "metadata": {},
     "output_type": "execute_result"
    },
    {
     "data": {
      "image/png": "[encoded data removed]",
      "text/plain": [
       "<Figure size 432x288 with 1 Axes>"
      ]
     },
     "metadata": {
      "needs_background": "light"
     },
     "output_type": "display_data"
    }
   ],
   "source": [
    "sns.boxplot(x = \"forehead_width_cm\", y = \"forehead_height_cm\", data = df, hue = \"gender\")"
   ]
  },
  {
   "cell_type": "markdown",
   "metadata": {
    "papermill": {
     "duration": 0.039023,
     "end_time": "2020-12-05T16:46:36.155465",
     "exception": false,
     "start_time": "2020-12-05T16:46:36.116442",
     "status": "completed"
    },
    "tags": []
   },
   "source": [
    "Correlation analysis"
   ]
  },
  {
   "cell_type": "code",
   "execution_count": 13,
   "metadata": {
    "execution": {
     "iopub.execute_input": "2020-12-05T16:46:36.243483Z",
     "iopub.status.busy": "2020-12-05T16:46:36.242650Z",
     "iopub.status.idle": "2020-12-05T16:46:36.252512Z",
     "shell.execute_reply": "2020-12-05T16:46:36.251829Z"
    },
    "papermill": {
     "duration": 0.057695,
     "end_time": "2020-12-05T16:46:36.252656",
     "exception": false,
     "start_time": "2020-12-05T16:46:36.194961",
     "status": "completed"
    },
    "tags": []
   },
   "outputs": [],
   "source": [
    "df_corr = df.corr()"
   ]
  },
  {
   "cell_type": "code",
   "execution_count": 14,
   "metadata": {
    "execution": {
     "iopub.execute_input": "2020-12-05T16:46:36.352655Z",
     "iopub.status.busy": "2020-12-05T16:46:36.351856Z",
     "iopub.status.idle": "2020-12-05T16:46:36.834290Z",
     "shell.execute_reply": "2020-12-05T16:46:36.833630Z"
    },
    "papermill": {
     "duration": 0.541655,
     "end_time": "2020-12-05T16:46:36.834419",
     "exception": false,
     "start_time": "2020-12-05T16:46:36.292764",
     "status": "completed"
    },
    "tags": []
   },
   "outputs": [
    {
     "data": {
      "text/plain": [
       "<matplotlib.axes._subplots.AxesSubplot at 0x7f54d827f3d0>"
      ]
     },
     "execution_count": 14,
     "metadata": {},
     "output_type": "execute_result"
    },
    {
     "data": {
      "image/png": "[encoded data removed]",
      "text/plain": [
       "<Figure size 432x288 with 2 Axes>"
      ]
     },
     "metadata": {
      "needs_background": "light"
     },
     "output_type": "display_data"
    }
   ],
   "source": [
    "sns.heatmap(df_corr,annot = True)"
   ]
  },
  {
   "cell_type": "markdown",
   "metadata": {
    "papermill": {
     "duration": 0.042984,
     "end_time": "2020-12-05T16:46:36.918804",
     "exception": false,
     "start_time": "2020-12-05T16:46:36.875820",
     "status": "completed"
    },
    "tags": []
   },
   "source": [
    "What we need to understand from this is that if the correlation coefficient is close to -1 or 1, there is a strong relationship between the variables."
   ]
  },
  {
   "cell_type": "code",
   "execution_count": 15,
   "metadata": {
    "execution": {
     "iopub.execute_input": "2020-12-05T16:46:37.023833Z",
     "iopub.status.busy": "2020-12-05T16:46:37.012752Z",
     "iopub.status.idle": "2020-12-05T16:46:38.318491Z",
     "shell.execute_reply": "2020-12-05T16:46:38.317560Z"
    },
    "papermill": {
     "duration": 1.3588,
     "end_time": "2020-12-05T16:46:38.318637",
     "exception": false,
     "start_time": "2020-12-05T16:46:36.959837",
     "status": "completed"
    },
    "tags": []
   },
   "outputs": [
    {
     "data": {
      "text/plain": [
       "<seaborn.axisgrid.FacetGrid at 0x7f54d8146f50>"
      ]
     },
     "execution_count": 15,
     "metadata": {},
     "output_type": "execute_result"
    },
    {
     "data": {
      "image/png": "[encoded data removed]",
      "text/plain": [
       "<Figure size 432x432 with 4 Axes>"
      ]
     },
     "metadata": {
      "needs_background": "light"
     },
     "output_type": "display_data"
    }
   ],
   "source": [
    "f = sns.FacetGrid(df, row = \"lips_thin\", col = \"gender\")\n",
    "f.map(plt.hist, \"distance_nose_to_lip_long\", bins = 20)"
   ]
  },
  {
   "cell_type": "markdown",
   "metadata": {
    "papermill": {
     "duration": 0.044158,
     "end_time": "2020-12-05T16:46:38.407282",
     "exception": false,
     "start_time": "2020-12-05T16:46:38.363124",
     "status": "completed"
    },
    "tags": []
   },
   "source": [
    "Outlier detection"
   ]
  },
  {
   "cell_type": "code",
   "execution_count": 16,
   "metadata": {
    "execution": {
     "iopub.execute_input": "2020-12-05T16:46:38.498464Z",
     "iopub.status.busy": "2020-12-05T16:46:38.497471Z",
     "iopub.status.idle": "2020-12-05T16:46:38.500852Z",
     "shell.execute_reply": "2020-12-05T16:46:38.500070Z"
    },
    "papermill": {
     "duration": 0.051594,
     "end_time": "2020-12-05T16:46:38.500979",
     "exception": false,
     "start_time": "2020-12-05T16:46:38.449385",
     "status": "completed"
    },
    "tags": []
   },
   "outputs": [],
   "source": [
    "def outlier(variable):\n",
    "    \n",
    "    sns.boxplot(df[variable])\n",
    "    plt.show()\n",
    "      "
   ]
  },
  {
   "cell_type": "code",
   "execution_count": 17,
   "metadata": {
    "execution": {
     "iopub.execute_input": "2020-12-05T16:46:38.591023Z",
     "iopub.status.busy": "2020-12-05T16:46:38.590242Z",
     "iopub.status.idle": "2020-12-05T16:46:38.593702Z",
     "shell.execute_reply": "2020-12-05T16:46:38.592951Z"
    },
    "papermill": {
     "duration": 0.050485,
     "end_time": "2020-12-05T16:46:38.593833",
     "exception": false,
     "start_time": "2020-12-05T16:46:38.543348",
     "status": "completed"
    },
    "tags": []
   },
   "outputs": [],
   "source": [
    "list1 = [\"forehead_width_cm\",\"forehead_height_cm\"]"
   ]
  },
  {
   "cell_type": "code",
   "execution_count": 18,
   "metadata": {
    "execution": {
     "iopub.execute_input": "2020-12-05T16:46:38.693111Z",
     "iopub.status.busy": "2020-12-05T16:46:38.690492Z",
     "iopub.status.idle": "2020-12-05T16:46:38.943563Z",
     "shell.execute_reply": "2020-12-05T16:46:38.942906Z"
    },
    "papermill": {
     "duration": 0.307052,
     "end_time": "2020-12-05T16:46:38.943713",
     "exception": false,
     "start_time": "2020-12-05T16:46:38.636661",
     "status": "completed"
    },
    "tags": []
   },
   "outputs": [
    {
     "data": {
      "image/png": "[encoded data removed]",
      "text/plain": [
       "<Figure size 432x288 with 1 Axes>"
      ]
     },
     "metadata": {
      "needs_background": "light"
     },
     "output_type": "display_data"
    },
    {
     "data": {
      "image/png": "[encoded data removed]",
      "text/plain": [
       "<Figure size 432x288 with 1 Axes>"
      ]
     },
     "metadata": {
      "needs_background": "light"
     },
     "output_type": "display_data"
    }
   ],
   "source": [
    "for i in list1:\n",
    "    outlier(i)"
   ]
  },
  {
   "cell_type": "markdown",
   "metadata": {
    "papermill": {
     "duration": 0.045171,
     "end_time": "2020-12-05T16:46:39.034480",
     "exception": false,
     "start_time": "2020-12-05T16:46:38.989309",
     "status": "completed"
    },
    "tags": []
   },
   "source": [
    "No outlier value in data set"
   ]
  },
  {
   "cell_type": "markdown",
   "metadata": {
    "papermill": {
     "duration": 0.044909,
     "end_time": "2020-12-05T16:46:39.124544",
     "exception": false,
     "start_time": "2020-12-05T16:46:39.079635",
     "status": "completed"
    },
    "tags": []
   },
   "source": [
    "Missing values "
   ]
  },
  {
   "cell_type": "code",
   "execution_count": 19,
   "metadata": {
    "execution": {
     "iopub.execute_input": "2020-12-05T16:46:39.219939Z",
     "iopub.status.busy": "2020-12-05T16:46:39.219041Z",
     "iopub.status.idle": "2020-12-05T16:46:39.225949Z",
     "shell.execute_reply": "2020-12-05T16:46:39.225187Z"
    },
    "papermill": {
     "duration": 0.057722,
     "end_time": "2020-12-05T16:46:39.226085",
     "exception": false,
     "start_time": "2020-12-05T16:46:39.168363",
     "status": "completed"
    },
    "tags": []
   },
   "outputs": [
    {
     "data": {
      "text/plain": [
       "long_hair                    0\n",
       "forehead_width_cm            0\n",
       "forehead_height_cm           0\n",
       "nose_wide                    0\n",
       "nose_long                    0\n",
       "lips_thin                    0\n",
       "distance_nose_to_lip_long    0\n",
       "gender                       0\n",
       "dtype: int64"
      ]
     },
     "execution_count": 19,
     "metadata": {},
     "output_type": "execute_result"
    }
   ],
   "source": [
    "df.isnull().sum()"
   ]
  },
  {
   "cell_type": "markdown",
   "metadata": {
    "papermill": {
     "duration": 0.044522,
     "end_time": "2020-12-05T16:46:39.315119",
     "exception": false,
     "start_time": "2020-12-05T16:46:39.270597",
     "status": "completed"
    },
    "tags": []
   },
   "source": [
    "no missing value in data set"
   ]
  },
  {
   "cell_type": "code",
   "execution_count": null,
   "metadata": {
    "papermill": {
     "duration": 0.045312,
     "end_time": "2020-12-05T16:46:39.407048",
     "exception": false,
     "start_time": "2020-12-05T16:46:39.361736",
     "status": "completed"
    },
    "tags": []
   },
   "outputs": [],
   "source": []
  },
  {
   "cell_type": "code",
   "execution_count": null,
   "metadata": {
    "papermill": {
     "duration": 0.050966,
     "end_time": "2020-12-05T16:46:39.509833",
     "exception": false,
     "start_time": "2020-12-05T16:46:39.458867",
     "status": "completed"
    },
    "tags": []
   },
   "outputs": [],
   "source": []
  },
  {
   "cell_type": "code",
   "execution_count": null,
   "metadata": {
    "papermill": {
     "duration": 0.050133,
     "end_time": "2020-12-05T16:46:39.615151",
     "exception": false,
     "start_time": "2020-12-05T16:46:39.565018",
     "status": "completed"
    },
    "tags": []
   },
   "outputs": [],
   "source": []
  }
 ],
 "metadata": {
  "kernelspec": {
   "display_name": "Python 3",
   "language": "python",
   "name": "python3"
  },
  "language_info": {
   "codemirror_mode": {
    "name": "ipython",
    "version": 3
   },
   "file_extension": ".py",
   "mimetype": "text/x-python",
   "name": "python",
   "nbconvert_exporter": "python",
   "pygments_lexer": "ipython3",
   "version": "3.7.6"
  },
  "papermill": {
   "duration": 21.512478,
   "end_time": "2020-12-05T16:46:39.770452",
   "environment_variables": {},
   "exception": null,
   "input_path": "__notebook__.ipynb",
   "output_path": "__notebook__.ipynb",
   "parameters": {},
   "start_time": "2020-12-05T16:46:18.257974",
   "version": "2.1.0"
  }
 },
 "nbformat": 4,
 "nbformat_minor": 4
}
